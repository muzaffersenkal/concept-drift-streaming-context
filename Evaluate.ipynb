{
 "cells": [
  {
   "cell_type": "code",
   "execution_count": 167,
   "id": "a7249fa3",
   "metadata": {},
   "outputs": [],
   "source": [
    "import pandas as pd\n",
    "import numpy as np\n",
    "import datetime, time\n",
    "import numpy as np\n",
    "import matplotlib.pyplot as plt\n",
    "import matplotlib.patches as mpatches\n",
    "from matplotlib import gridspec\n",
    "import random"
   ]
  },
  {
   "cell_type": "code",
   "execution_count": 2,
   "id": "f5493646",
   "metadata": {},
   "outputs": [],
   "source": [
    "def get_unix(latency):\n",
    "    millisecond = datetime.datetime.now() - datetime.timedelta(seconds=latency)\n",
    "    unixtimestamp = int(millisecond.timestamp() * 1000)\n",
    "    return unixtimestamp"
   ]
  },
  {
   "cell_type": "code",
   "execution_count": 3,
   "id": "0a37296b",
   "metadata": {},
   "outputs": [],
   "source": [
    "def plot_data(df, driftsExtra=None):\n",
    "    fig = plt.figure(figsize=(7,3), tight_layout=True)\n",
    "    gs = gridspec.GridSpec(1, 2, width_ratios=[3, 1])\n",
    "    ax1 = plt.subplot(gs[0])\n",
    "    ax1.grid()\n",
    "    ax1.plot(df[\"latency\"], label='Stream')\n",
    "    drifts= list(df.query(\"drift == 1\").index)\n",
    "    if len(drifts) > 0:\n",
    "        for i in drifts:\n",
    "            ax1.axvline(i, color='red')\n",
    "    if driftsExtra:\n",
    "        for i in driftsExtra:\n",
    "            ax1.axvline(i, color='yellow')\n",
    "    \n",
    "    plt.show()"
   ]
  },
  {
   "cell_type": "code",
   "execution_count": 4,
   "id": "e61a33ee",
   "metadata": {},
   "outputs": [],
   "source": [
    "df = pd.read_csv(\"conceptdrift/Data/data_drift_20.csv\",names={'ingestion': pd.Series(dtype='int'),'event': pd.Series(dtype='int'),\n",
    "                   'latency': pd.Series(dtype='float'),\n",
    "                   'drift': pd.Series(dtype='int')})"
   ]
  },
  {
   "cell_type": "code",
   "execution_count": null,
   "id": "bd0a83ad",
   "metadata": {},
   "outputs": [],
   "source": []
  },
  {
   "cell_type": "code",
   "execution_count": 5,
   "id": "efaae7b7",
   "metadata": {},
   "outputs": [],
   "source": [
    "def isAllowed(driftTime, detectTime, threshold):\n",
    "    \n",
    "    tsDrift = datetime.datetime.fromtimestamp(int(driftTime)/1000)  \n",
    "    tsDetect = datetime.datetime.fromtimestamp(int(detectTime)/1000)  \n",
    "    diff = tsDetect - tsDrift\n",
    "    diff = diff.total_seconds()\n",
    "    if diff > 0 and diff <= threshold:\n",
    "        return True\n",
    "    return False\n",
    "    "
   ]
  },
  {
   "cell_type": "code",
   "execution_count": 6,
   "id": "85570214",
   "metadata": {},
   "outputs": [],
   "source": [
    "def evaluate(threshold, df_p):\n",
    "    detectedTS = df_p[\"ingestion\"].tolist()\n",
    "    driftsTS = df.query(\"drift == 1\")[\"ingestion\"].tolist()\n",
    "    counterResult = 0\n",
    "    result= dict()\n",
    "    result[\"name\"] =  df_p[\"algorithm\"].unique()[0]\n",
    "    result[\"predictedDrift\"] = len(detectedTS)\n",
    "    \n",
    "    for i in driftsTS:\n",
    "\n",
    "        for j in detectedTS:\n",
    "            accept = isAllowed(i, j, threshold)\n",
    "            if accept:\n",
    "                counterResult +=  1\n",
    "                break\n",
    "    acc = (counterResult/len(detectedTS))*100\n",
    "    \n",
    "    result[\"acceptedDrift\"] =counterResult\n",
    "    result[\"acc\"] = acc\n",
    "    return result"
   ]
  },
  {
   "cell_type": "code",
   "execution_count": 9,
   "id": "639ce649",
   "metadata": {},
   "outputs": [],
   "source": [
    "files = [\"result_sudden_ADWIN.csv\",\"result_sudden_GMADM.csv\", \"result_sudden_CUSUM.csv\", \"result_sudden_PageHinkley.csv\"]"
   ]
  },
  {
   "cell_type": "code",
   "execution_count": 115,
   "id": "a93ff5b6",
   "metadata": {},
   "outputs": [],
   "source": [
    "thresholds = [0.75, 1, 1.25, 1.5, 1.75]\n",
    "df_result = pd.DataFrame({'algorithm': pd.Series(dtype='str'),'threshold': pd.Series(dtype='int'),\n",
    "                   'accuracy': pd.Series(dtype='float'),'predictedDrift': pd.Series(dtype='int'),'accepted': pd.Series(dtype='int'), })\n",
    "\n",
    "\n",
    "for f in files:\n",
    "    df_processed = pd.read_csv(f\"conceptdrift/Data/result/{f}\",names={'ingestion': pd.Series(dtype='int'),'event': pd.Series(dtype='int'),\n",
    "                   'indexNumber': pd.Series(dtype='int'),\n",
    "                   'algorithm': pd.Series(dtype='str')})\n",
    "    \n",
    "    \n",
    "    for t in thresholds:\n",
    "        result = evaluate(t, df_processed)\n",
    "        df_result = df_result.append({\"algorithm\":result[\"name\"] ,\"threshold\": t, \"accuracy\": result[\"acc\"],\n",
    "                                      \"accepted\":result[\"acceptedDrift\"], \"predictedDrift\": result[\"predictedDrift\"]},ignore_index=True) "
   ]
  },
  {
   "cell_type": "code",
   "execution_count": 117,
   "id": "223bd15b",
   "metadata": {},
   "outputs": [
    {
     "data": {
      "text/plain": [
       "'{\"algorithm\":{\"0\":\"ADWIN\",\"1\":\"ADWIN\",\"2\":\"ADWIN\",\"3\":\"ADWIN\",\"4\":\"ADWIN\",\"5\":\"GMADM\",\"6\":\"GMADM\",\"7\":\"GMADM\",\"8\":\"GMADM\",\"9\":\"GMADM\",\"10\":\"CUSUM\",\"11\":\"CUSUM\",\"12\":\"CUSUM\",\"13\":\"CUSUM\",\"14\":\"CUSUM\",\"15\":\"PageHinkley\",\"16\":\"PageHinkley\",\"17\":\"PageHinkley\",\"18\":\"PageHinkley\",\"19\":\"PageHinkley\"},\"threshold\":{\"0\":0.75,\"1\":1.0,\"2\":1.25,\"3\":1.5,\"4\":1.75,\"5\":0.75,\"6\":1.0,\"7\":1.25,\"8\":1.5,\"9\":1.75,\"10\":0.75,\"11\":1.0,\"12\":1.25,\"13\":1.5,\"14\":1.75,\"15\":0.75,\"16\":1.0,\"17\":1.25,\"18\":1.5,\"19\":1.75},\"accuracy\":{\"0\":47.619047619,\"1\":47.619047619,\"2\":47.619047619,\"3\":47.619047619,\"4\":47.619047619,\"5\":25.0,\"6\":75.0,\"7\":75.0,\"8\":75.0,\"9\":75.0,\"10\":72.7272727273,\"11\":81.8181818182,\"12\":90.9090909091,\"13\":90.9090909091,\"14\":90.9090909091,\"15\":25.0,\"16\":25.0,\"17\":25.0,\"18\":25.0,\"19\":25.0},\"predictedDrift\":{\"0\":42,\"1\":42,\"2\":42,\"3\":42,\"4\":42,\"5\":4,\"6\":4,\"7\":4,\"8\":4,\"9\":4,\"10\":11,\"11\":11,\"12\":11,\"13\":11,\"14\":11,\"15\":4,\"16\":4,\"17\":4,\"18\":4,\"19\":4},\"accepted\":{\"0\":20,\"1\":20,\"2\":20,\"3\":20,\"4\":20,\"5\":1,\"6\":3,\"7\":3,\"8\":3,\"9\":3,\"10\":8,\"11\":9,\"12\":10,\"13\":10,\"14\":10,\"15\":1,\"16\":1,\"17\":1,\"18\":1,\"19\":1}}'"
      ]
     },
     "execution_count": 117,
     "metadata": {},
     "output_type": "execute_result"
    }
   ],
   "source": [
    "df_result.to_json()"
   ]
  },
  {
   "cell_type": "code",
   "execution_count": 116,
   "id": "3d420f22",
   "metadata": {},
   "outputs": [
    {
     "data": {
      "text/html": [
       "<div>\n",
       "<style scoped>\n",
       "    .dataframe tbody tr th:only-of-type {\n",
       "        vertical-align: middle;\n",
       "    }\n",
       "\n",
       "    .dataframe tbody tr th {\n",
       "        vertical-align: top;\n",
       "    }\n",
       "\n",
       "    .dataframe thead th {\n",
       "        text-align: right;\n",
       "    }\n",
       "</style>\n",
       "<table border=\"1\" class=\"dataframe\">\n",
       "  <thead>\n",
       "    <tr style=\"text-align: right;\">\n",
       "      <th></th>\n",
       "      <th>algorithm</th>\n",
       "      <th>threshold</th>\n",
       "      <th>accuracy</th>\n",
       "      <th>predictedDrift</th>\n",
       "      <th>accepted</th>\n",
       "    </tr>\n",
       "  </thead>\n",
       "  <tbody>\n",
       "    <tr>\n",
       "      <th>0</th>\n",
       "      <td>ADWIN</td>\n",
       "      <td>0.75</td>\n",
       "      <td>47.619048</td>\n",
       "      <td>42</td>\n",
       "      <td>20</td>\n",
       "    </tr>\n",
       "    <tr>\n",
       "      <th>1</th>\n",
       "      <td>ADWIN</td>\n",
       "      <td>1.00</td>\n",
       "      <td>47.619048</td>\n",
       "      <td>42</td>\n",
       "      <td>20</td>\n",
       "    </tr>\n",
       "    <tr>\n",
       "      <th>2</th>\n",
       "      <td>ADWIN</td>\n",
       "      <td>1.25</td>\n",
       "      <td>47.619048</td>\n",
       "      <td>42</td>\n",
       "      <td>20</td>\n",
       "    </tr>\n",
       "    <tr>\n",
       "      <th>3</th>\n",
       "      <td>ADWIN</td>\n",
       "      <td>1.50</td>\n",
       "      <td>47.619048</td>\n",
       "      <td>42</td>\n",
       "      <td>20</td>\n",
       "    </tr>\n",
       "    <tr>\n",
       "      <th>4</th>\n",
       "      <td>ADWIN</td>\n",
       "      <td>1.75</td>\n",
       "      <td>47.619048</td>\n",
       "      <td>42</td>\n",
       "      <td>20</td>\n",
       "    </tr>\n",
       "    <tr>\n",
       "      <th>5</th>\n",
       "      <td>GMADM</td>\n",
       "      <td>0.75</td>\n",
       "      <td>25.000000</td>\n",
       "      <td>4</td>\n",
       "      <td>1</td>\n",
       "    </tr>\n",
       "    <tr>\n",
       "      <th>6</th>\n",
       "      <td>GMADM</td>\n",
       "      <td>1.00</td>\n",
       "      <td>75.000000</td>\n",
       "      <td>4</td>\n",
       "      <td>3</td>\n",
       "    </tr>\n",
       "    <tr>\n",
       "      <th>7</th>\n",
       "      <td>GMADM</td>\n",
       "      <td>1.25</td>\n",
       "      <td>75.000000</td>\n",
       "      <td>4</td>\n",
       "      <td>3</td>\n",
       "    </tr>\n",
       "    <tr>\n",
       "      <th>8</th>\n",
       "      <td>GMADM</td>\n",
       "      <td>1.50</td>\n",
       "      <td>75.000000</td>\n",
       "      <td>4</td>\n",
       "      <td>3</td>\n",
       "    </tr>\n",
       "    <tr>\n",
       "      <th>9</th>\n",
       "      <td>GMADM</td>\n",
       "      <td>1.75</td>\n",
       "      <td>75.000000</td>\n",
       "      <td>4</td>\n",
       "      <td>3</td>\n",
       "    </tr>\n",
       "    <tr>\n",
       "      <th>10</th>\n",
       "      <td>CUSUM</td>\n",
       "      <td>0.75</td>\n",
       "      <td>72.727273</td>\n",
       "      <td>11</td>\n",
       "      <td>8</td>\n",
       "    </tr>\n",
       "    <tr>\n",
       "      <th>11</th>\n",
       "      <td>CUSUM</td>\n",
       "      <td>1.00</td>\n",
       "      <td>81.818182</td>\n",
       "      <td>11</td>\n",
       "      <td>9</td>\n",
       "    </tr>\n",
       "    <tr>\n",
       "      <th>12</th>\n",
       "      <td>CUSUM</td>\n",
       "      <td>1.25</td>\n",
       "      <td>90.909091</td>\n",
       "      <td>11</td>\n",
       "      <td>10</td>\n",
       "    </tr>\n",
       "    <tr>\n",
       "      <th>13</th>\n",
       "      <td>CUSUM</td>\n",
       "      <td>1.50</td>\n",
       "      <td>90.909091</td>\n",
       "      <td>11</td>\n",
       "      <td>10</td>\n",
       "    </tr>\n",
       "    <tr>\n",
       "      <th>14</th>\n",
       "      <td>CUSUM</td>\n",
       "      <td>1.75</td>\n",
       "      <td>90.909091</td>\n",
       "      <td>11</td>\n",
       "      <td>10</td>\n",
       "    </tr>\n",
       "    <tr>\n",
       "      <th>15</th>\n",
       "      <td>PageHinkley</td>\n",
       "      <td>0.75</td>\n",
       "      <td>25.000000</td>\n",
       "      <td>4</td>\n",
       "      <td>1</td>\n",
       "    </tr>\n",
       "    <tr>\n",
       "      <th>16</th>\n",
       "      <td>PageHinkley</td>\n",
       "      <td>1.00</td>\n",
       "      <td>25.000000</td>\n",
       "      <td>4</td>\n",
       "      <td>1</td>\n",
       "    </tr>\n",
       "    <tr>\n",
       "      <th>17</th>\n",
       "      <td>PageHinkley</td>\n",
       "      <td>1.25</td>\n",
       "      <td>25.000000</td>\n",
       "      <td>4</td>\n",
       "      <td>1</td>\n",
       "    </tr>\n",
       "    <tr>\n",
       "      <th>18</th>\n",
       "      <td>PageHinkley</td>\n",
       "      <td>1.50</td>\n",
       "      <td>25.000000</td>\n",
       "      <td>4</td>\n",
       "      <td>1</td>\n",
       "    </tr>\n",
       "    <tr>\n",
       "      <th>19</th>\n",
       "      <td>PageHinkley</td>\n",
       "      <td>1.75</td>\n",
       "      <td>25.000000</td>\n",
       "      <td>4</td>\n",
       "      <td>1</td>\n",
       "    </tr>\n",
       "  </tbody>\n",
       "</table>\n",
       "</div>"
      ],
      "text/plain": [
       "      algorithm  threshold   accuracy  predictedDrift  accepted\n",
       "0         ADWIN       0.75  47.619048              42        20\n",
       "1         ADWIN       1.00  47.619048              42        20\n",
       "2         ADWIN       1.25  47.619048              42        20\n",
       "3         ADWIN       1.50  47.619048              42        20\n",
       "4         ADWIN       1.75  47.619048              42        20\n",
       "5         GMADM       0.75  25.000000               4         1\n",
       "6         GMADM       1.00  75.000000               4         3\n",
       "7         GMADM       1.25  75.000000               4         3\n",
       "8         GMADM       1.50  75.000000               4         3\n",
       "9         GMADM       1.75  75.000000               4         3\n",
       "10        CUSUM       0.75  72.727273              11         8\n",
       "11        CUSUM       1.00  81.818182              11         9\n",
       "12        CUSUM       1.25  90.909091              11        10\n",
       "13        CUSUM       1.50  90.909091              11        10\n",
       "14        CUSUM       1.75  90.909091              11        10\n",
       "15  PageHinkley       0.75  25.000000               4         1\n",
       "16  PageHinkley       1.00  25.000000               4         1\n",
       "17  PageHinkley       1.25  25.000000               4         1\n",
       "18  PageHinkley       1.50  25.000000               4         1\n",
       "19  PageHinkley       1.75  25.000000               4         1"
      ]
     },
     "execution_count": 116,
     "metadata": {},
     "output_type": "execute_result"
    }
   ],
   "source": [
    "df_result"
   ]
  },
  {
   "cell_type": "code",
   "execution_count": 11,
   "id": "535439a4",
   "metadata": {},
   "outputs": [],
   "source": [
    "files= [\"result_sudden_ADWIN.csv\"]"
   ]
  },
  {
   "cell_type": "code",
   "execution_count": 24,
   "id": "cd9854c4",
   "metadata": {},
   "outputs": [],
   "source": [
    "def plot_drifts(df,  files , save_fig=None):\n",
    "    fig = plt.figure(figsize=(12,6.5), tight_layout=True)\n",
    "    gs = gridspec.GridSpec(2, 2, width_ratios=[3, 3])\n",
    "    \n",
    "    for index, file in enumerate(files):\n",
    "        df_processed = pd.read_csv(f\"conceptdrift/Data/result/{file}\",names={'ingestion': pd.Series(dtype='int'),'event': pd.Series(dtype='int'),\n",
    "                   'indexNumber': pd.Series(dtype='int'),\n",
    "                   'algorithm': pd.Series(dtype='str')})\n",
    "        ax1 = plt.subplot(gs[index])\n",
    "        ax1.grid()\n",
    "        ax1.set_ylabel('latency')\n",
    "        ax1.plot(df[\"latency\"], label='Stream')\n",
    "\n",
    "        driftsExtra = df_processed[\"indexNumber\"].tolist()\n",
    "        \"\"\"\n",
    "        drifts= list(df.query(\"drift == 1\").index)\n",
    "        if len(drifts) > 0:\n",
    "            for i in drifts:\n",
    "                ax1.axvline(i, color='red')\n",
    "        \"\"\"\n",
    "        for i in driftsExtra:\n",
    "            ax1.axvline(i, color='orange')\n",
    "    plt.xlim([800, 1200])\n",
    "    if save_fig:\n",
    "        plt.savefig(save_fig)\n",
    "    plt.show()"
   ]
  },
  {
   "cell_type": "code",
   "execution_count": null,
   "id": "f94bade8",
   "metadata": {},
   "outputs": [],
   "source": [
    "def plot_data(df, driftsExtra=None):\n",
    "    fig = plt.figure(figsize=(7,3), tight_layout=True)\n",
    "    gs = gridspec.GridSpec(1, 2, width_ratios=[3, 1])\n",
    "    ax1 = plt.subplot(gs[0])\n",
    "    ax1.grid()\n",
    "    ax1.plot(df[\"latency\"], label='Stream')\n",
    "    drifts= list(df.query(\"drift == 1\").index)\n",
    "    if len(drifts) > 0:\n",
    "        for i in drifts:\n",
    "            ax1.axvline(i, color='red')\n",
    "    if driftsExtra:\n",
    "        for i in driftsExtra:\n",
    "            ax1.axvline(i, color='yellow')\n",
    "    \n",
    "    plt.show()"
   ]
  },
  {
   "cell_type": "code",
   "execution_count": 25,
   "id": "93f196eb",
   "metadata": {},
   "outputs": [
    {
     "data": {
      "image/png": "[encoded data removed]",
      "text/plain": [
       "<Figure size 864x468 with 1 Axes>"
      ]
     },
     "metadata": {
      "needs_background": "light"
     },
     "output_type": "display_data"
    }
   ],
   "source": [
    "plot_drifts(df,files, \"drift_result_plots.png\")"
   ]
  },
  {
   "cell_type": "code",
   "execution_count": 92,
   "id": "1e116be0",
   "metadata": {},
   "outputs": [
    {
     "ename": "NameError",
     "evalue": "name 'df_processed' is not defined",
     "output_type": "error",
     "traceback": [
      "\u001b[0;31m---------------------------------------------------------------------------\u001b[0m",
      "\u001b[0;31mNameError\u001b[0m                                 Traceback (most recent call last)",
      "\u001b[0;32m/var/folders/sl/gp41c3g54276cxbl2d7xkw980000gn/T/ipykernel_3375/2402714056.py\u001b[0m in \u001b[0;36m<module>\u001b[0;34m\u001b[0m\n\u001b[0;32m----> 1\u001b[0;31m \u001b[0mdf_processed\u001b[0m\u001b[0;34m\u001b[0m\u001b[0;34m\u001b[0m\u001b[0m\n\u001b[0m",
      "\u001b[0;31mNameError\u001b[0m: name 'df_processed' is not defined"
     ]
    }
   ],
   "source": [
    "df_processed"
   ]
  },
  {
   "cell_type": "code",
   "execution_count": 172,
   "id": "8c88d80f",
   "metadata": {},
   "outputs": [],
   "source": [
    "def plot_drifts_ex(df,  files , save_fig=None):\n",
    "    fig = plt.figure(figsize=(12,6.5), tight_layout=True)\n",
    "    gs = gridspec.GridSpec(2, 2, width_ratios=[3, 3])\n",
    "    \n",
    "    for index, file in enumerate(files):\n",
    "        df_processed = pd.read_csv(f\"conceptdrift/Data/result/{file}\",names={'ingestion': pd.Series(dtype='int'),'event': pd.Series(dtype='int'),\n",
    "                   'indexNumber': pd.Series(dtype='int'),\n",
    "                   'algorithm': pd.Series(dtype='str')})\n",
    "        ax1 = plt.subplot(gs[index])\n",
    "        ax1.grid()\n",
    "        ax1.set_ylabel('latency')\n",
    "        ax1.set_xlabel('ingestion unix timestamp')\n",
    "        ax1.plot(df[\"ingestion\"],df[\"latency\"], label='Stream')\n",
    "\n",
    "        driftsExtra = df_processed[\"ingestion\"].tolist()\n",
    "        \n",
    "        drifts= df.query(\"drift == 1\")\n",
    "        if drifts.shape[0] > 0:\n",
    "            for index, row in drifts.iterrows():\n",
    "                ax1.axvline(int(row[\"ingestion\"]), color='red')\n",
    "       \n",
    "        for i in driftsExtra:\n",
    "            ax1.axvline(int(i), color='orange')\n",
    "        \n",
    "    plt.xlim([1658333948701, 1658333951107])\n",
    "    \n",
    "    #plt.ylim([0, 7])\n",
    "    red_patch = mpatches.Patch(color='red', label='actual drift')\n",
    "    orange_patch = mpatches.Patch(color='orange', label='predicted drift')\n",
    "    plt.legend(handles=[red_patch,orange_patch])\n",
    "    if save_fig:\n",
    "        plt.savefig(save_fig)\n",
    "    plt.show()"
   ]
  },
  {
   "cell_type": "code",
   "execution_count": 173,
   "id": "db0dcb7b",
   "metadata": {},
   "outputs": [
    {
     "data": {
      "image/png": "[encoded data removed]",
      "text/plain": [
       "<Figure size 864x468 with 1 Axes>"
      ]
     },
     "metadata": {
      "needs_background": "light"
     },
     "output_type": "display_data"
    }
   ],
   "source": [
    "plot_drifts_ex(df,files, \"drift_result_adwin_detail.png\")"
   ]
  },
  {
   "cell_type": "code",
   "execution_count": null,
   "id": "3ccdce14",
   "metadata": {},
   "outputs": [],
   "source": []
  }
 ],
 "metadata": {
  "kernelspec": {
   "display_name": "Python 3 (ipykernel)",
   "language": "python",
   "name": "python3"
  },
  "language_info": {
   "codemirror_mode": {
    "name": "ipython",
    "version": 3
   },
   "file_extension": ".py",
   "mimetype": "text/x-python",
   "name": "python",
   "nbconvert_exporter": "python",
   "pygments_lexer": "ipython3",
   "version": "3.9.5"
  }
 },
 "nbformat": 4,
 "nbformat_minor": 5
}
